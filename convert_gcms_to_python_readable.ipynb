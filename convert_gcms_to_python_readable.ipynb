{
 "cells": [
  {
   "cell_type": "markdown",
   "metadata": {},
   "source": [
    "# How to convert a Shimadzu GCMS file types to MZXML (which can be read into python)"
   ]
  },
  {
   "cell_type": "markdown",
   "metadata": {},
   "source": [
    "In order to convert GCMS files from a Shimadzu GCMS to a type readable into python, you must first have access to the proprietary Shimadzu [GCMSsolution](https://www.ssi.shimadzu.com/products/gas-chromatography-mass-spectrometry/gcmssolution-software.html) software, unfortunatly. However, this software is necessary to acquire data from the GCMS itself, so you will be able to perform these steps to convert your data into a python readable format before transferring it from your acquisition machine to a data storage location.\n",
    "\n",
    "**Open the data file in the GCMS Postrun Analyis. In the data explorer, open up the folder with your data files. Select the files that you wish to convert, `right click, mouse to File Convert, and select To mzXML`.**"
   ]
  },
  {
   "cell_type": "markdown",
   "metadata": {},
   "source": [
    "![](./export_gcms_data_1.png)"
   ]
  },
  {
   "cell_type": "markdown",
   "metadata": {},
   "source": [
    "**A box will pop up. You can then select all the files on the left part of the box that you wish to convert, and then click OK.**"
   ]
  },
  {
   "cell_type": "markdown",
   "metadata": {},
   "source": [
    "![](./export_gcms_data_2.png)"
   ]
  },
  {
   "cell_type": "markdown",
   "metadata": {},
   "source": [
    "**That's it! It may take a few minutes to convert depending on the number of files. By default, these will be put in the same folder as the original file, and have the `.mzXML` extension.**"
   ]
  },
  {
   "cell_type": "code",
   "execution_count": null,
   "metadata": {},
   "outputs": [],
   "source": []
  }
 ],
 "metadata": {
  "kernelspec": {
   "display_name": "Python 3",
   "language": "python",
   "name": "python3"
  },
  "language_info": {
   "codemirror_mode": {
    "name": "ipython",
    "version": 3
   },
   "file_extension": ".py",
   "mimetype": "text/x-python",
   "name": "python",
   "nbconvert_exporter": "python",
   "pygments_lexer": "ipython3",
   "version": "3.7.7"
  }
 },
 "nbformat": 4,
 "nbformat_minor": 4
}
